{
 "cells": [
  {
   "cell_type": "code",
   "execution_count": 1,
   "id": "061cae6a",
   "metadata": {},
   "outputs": [],
   "source": [
    "import ml_mr.simulation as mr_sim\n",
    "import numpy as np"
   ]
  },
  {
   "cell_type": "code",
   "execution_count": 2,
   "id": "513c2492",
   "metadata": {},
   "outputs": [],
   "source": [
    "sim = mr_sim.Simulation(100_000)\n",
    "\n",
    "sim.add_sim_parameter(\"h2\", 0.2)\n",
    "sim.add_sim_parameter(\"n_variants\", 15)\n",
    "\n",
    "sim.add_sim_parameter(\"ux_effect\", 0.15)\n",
    "sim.add_sim_parameter(\"uy_effect\", 0.1)\n",
    "sim.add_sim_parameter(\"xy_effect\", 0.07)  # Target parameter\n",
    "\n",
    "# Noise\n",
    "sim.add_sim_parameter(\"x_e_std\", 1)\n",
    "sim.add_sim_parameter(\"y_e_std\", 1)"
   ]
  },
  {
   "cell_type": "code",
   "execution_count": 3,
   "id": "babf7b81",
   "metadata": {},
   "outputs": [],
   "source": [
    "# Standard normal for the confounder\n",
    "sim.add_variable(mr_sim.Normal(\"u\", 0, 1))\n",
    "\n",
    "# We generate the variant frequencies \"outside\" of\n",
    "# the simulation model because it's not very important.\n",
    "# This could also be done using real simulation variables\n",
    "# to ensure resampling.\n",
    "# We still record them as (fixed) simulation parameters.\n",
    "@mr_sim.variable\n",
    "def variant_frequencies(sim):\n",
    "    return np.random.uniform(\n",
    "    0.05,\n",
    "    0.5 - 0.05,\n",
    "    size=sim.get_sim_parameter(\"n_variants\")\n",
    ")\n",
    "sim.add_sim_parameter(variant_frequencies)\n",
    "\n",
    "freqs = sim.get_sim_parameter(\"variant_frequencies\")\n",
    "# We now simulate independant genetic variants.\n",
    "for i in range(sim.get_sim_parameter(\"n_variants\")):\n",
    "    variant = mr_sim.Variant(f\"v{i+1}\", freqs[i])\n",
    "    sim.add_variable(variant)\n",
    "\n",
    "# We simulate variant effects.\n",
    "sim.add_sim_parameter(\n",
    "    mr_sim.Normal(\n",
    "        \"gx_effects\",\n",
    "        mu=0,\n",
    "        sigma=np.sqrt(sim.get_sim_parameter(\"h2\") / sim.get_sim_parameter(\"n_variants\")),\n",
    "        size=sim.get_sim_parameter(\"n_variants\")\n",
    "    )\n",
    ")\n",
    "    \n",
    "# We now have everything to simulate the exposure.\n",
    "@mr_sim.variable\n",
    "def exposure(sim):\n",
    "    variant_effects = sim.get_sim_parameter(\"gx_effects\")\n",
    "    \n",
    "    x = 0\n",
    "    for i in range(sim.get_sim_parameter(\"n_variants\")):\n",
    "        variant = sim.get_variable_data(f\"v{i+1}\")\n",
    "        effect = variant_effects[i]\n",
    "        \n",
    "        x += effect * variant\n",
    "    \n",
    "    # Add effect of counfounder.\n",
    "    x += sim.get_sim_parameter(\"ux_effect\") * sim.get_variable_data(\"u\")\n",
    "    \n",
    "    # Add residual noise.\n",
    "    x += np.random.normal(0, scale=sim.get_sim_parameter(\"x_e_std\"), size=sim.n)\n",
    "    \n",
    "    return x\n",
    "    \n",
    "\n",
    "# And the outcome.\n",
    "@mr_sim.variable\n",
    "def outcome(sim):\n",
    "    return (\n",
    "        sim.get_sim_parameter(\"xy_effect\") * sim.get_variable_data(\"exposure\") +\n",
    "        sim.get_sim_parameter(\"uy_effect\") * sim.get_variable_data(\"u\") +\n",
    "        np.random.normal(0, scale=sim.get_sim_parameter(\"y_e_std\"), size=sim.n)\n",
    "    )\n",
    "\n",
    "\n",
    "sim.add_variable(exposure)\n",
    "sim.add_variable(outcome)"
   ]
  },
  {
   "cell_type": "code",
   "execution_count": 4,
   "id": "76379a9b",
   "metadata": {},
   "outputs": [],
   "source": [
    "sim.save(0)\n",
    "sim.resample()\n",
    "sim.save(1)"
   ]
  },
  {
   "cell_type": "code",
   "execution_count": null,
   "id": "9d12dd5d",
   "metadata": {},
   "outputs": [],
   "source": []
  }
 ],
 "metadata": {
  "kernelspec": {
   "display_name": "Python 3 (ipykernel)",
   "language": "python",
   "name": "python3"
  },
  "language_info": {
   "codemirror_mode": {
    "name": "ipython",
    "version": 3
   },
   "file_extension": ".py",
   "mimetype": "text/x-python",
   "name": "python",
   "nbconvert_exporter": "python",
   "pygments_lexer": "ipython3",
   "version": "3.9.5"
  }
 },
 "nbformat": 4,
 "nbformat_minor": 5
}
